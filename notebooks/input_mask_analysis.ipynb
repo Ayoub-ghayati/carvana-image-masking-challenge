{
 "cells": [
  {
   "cell_type": "code",
   "execution_count": 84,
   "metadata": {
    "scrolled": true
   },
   "outputs": [],
   "source": [
    "import numpy as np # linear algebra\n",
    "import pandas as pd # data processing, CSV file I/O (e.g. pd.read_csv)\n",
    "import matplotlib.pyplot as plt\n",
    "import matplotlib.image as mpimg\n",
    "import seaborn as sns\n",
    "from sklearn import model_selection, preprocessing, metrics\n",
    "from sklearn.utils import shuffle\n",
    "from scipy import misc\n",
    "import xgboost as xgb\n",
    "import os\n",
    "import re\n",
    "import time\n",
    "#import h5py\n",
    "import pickle\n",
    "from tqdm import tqdm\n",
    "import cv2\n",
    "from keras.models import Sequential, load_model\n",
    "from keras.layers.convolutional import Convolution2D\n",
    "from keras.layers.pooling import MaxPooling2D\n",
    "from keras.layers.core import Activation, Dropout, Flatten, Dense, Lambda\n",
    "from keras.layers import ELU\n",
    "from keras.optimizers import Adam\n",
    "import keras.backend.tensorflow_backend as KTF\n",
    "from keras.callbacks import EarlyStopping, ModelCheckpoint, TensorBoard\n",
    "color = sns.color_palette()\n",
    "\n",
    "%matplotlib inline"
   ]
  },
  {
   "cell_type": "code",
   "execution_count": 2,
   "metadata": {
    "collapsed": true
   },
   "outputs": [],
   "source": [
    "DATA_PATH = '/kaggle/dev/carvana-image-masking-challenge-data'\n",
    "RAW_DATA_PATH = os.path.join(DATA_PATH, 'raw_data')\n",
    "TRAIN_PATH = os.path.join(RAW_DATA_PATH, 'train')\n",
    "TEST_PATH = os.path.join(RAW_DATA_PATH, 'test')\n",
    "TRAIN_MASKS_PATH = os.path.join(RAW_DATA_PATH, 'train_masks')\n",
    "TRAIN_MASKS_CSV_PATH = os.path.join(RAW_DATA_PATH, 'train_masks.csv')\n",
    "SAMPLE_SUBMISSION_PATH = os.path.join(RAW_DATA_PATH, 'sample_submission.csv')\n",
    "METADATA_PATH = os.path.join(RAW_DATA_PATH, 'metadata.csv')\n",
    "SUBMISSION_PATH = os.path.join(DATA_PATH, 'submissions')\n",
    "ASSETS_PATH = os.path.join(DATA_PATH, 'assets')\n",
    "MODELS_PATH = os.path.join(ASSETS_PATH, 'models')\n",
    "TENSORBOARD_PATH = os.path.join(ASSETS_PATH, 'tensorboard')\n",
    "\n",
    "# Constants\n",
    "HEIGHT_ORIG = 1280\n",
    "WIDTH_ORIG = 1918\n",
    "CHANNELS_ORIG = 3\n",
    "\n",
    "HEIGHT = 1024\n",
    "WIDTH = 1024\n",
    "CHANNELS = 3\n",
    "new_shape = (HEIGHT, WIDTH, CHANNELS)\n",
    "mask_shape = (new_shape[0], new_shape[1], 1)"
   ]
  },
  {
   "cell_type": "code",
   "execution_count": 3,
   "metadata": {},
   "outputs": [
    {
     "name": "stdout",
     "output_type": "stream",
     "text": [
      "train_masks_df.shape (5088, 2)\n",
      "metadata_df.shape (6572, 6)\n"
     ]
    }
   ],
   "source": [
    "train_masks_df = pd.read_csv(TRAIN_MASKS_CSV_PATH)\n",
    "print('train_masks_df.shape', train_masks_df.shape)\n",
    "\n",
    "metadata_df = pd.read_csv(METADATA_PATH)\n",
    "print('metadata_df.shape', metadata_df.shape)"
   ]
  },
  {
   "cell_type": "code",
   "execution_count": 204,
   "metadata": {
    "collapsed": true
   },
   "outputs": [],
   "source": [
    "# Helper functions to plot car, mask, masked_car\n",
    "def plot_image(img_id):\n",
    "    img = mpimg.imread(os.path.join(TRAIN_PATH, img_id + \".jpg\"))\n",
    "    imgplot = plt.imshow(img)\n",
    "    plt.axis('off')\n",
    "    plt.show()\n",
    "    \n",
    "def plot_mask(img_id):\n",
    "    mask = mpimg.imread(os.path.join(TRAIN_MASKS_PATH, img_id + \"_mask.gif\"))\n",
    "    imgplot = plt.imshow(mask)\n",
    "    plt.axis('off')\n",
    "    plt.show()\n",
    "    \n",
    "def plot_masked_image(img_id):\n",
    "    img = mpimg.imread(os.path.join(TRAIN_PATH, img_id + \".jpg\"))\n",
    "    mask = mpimg.imread(os.path.join(TRAIN_MASKS_PATH, img_id + \"_mask.gif\"))\n",
    "    mask = mask[:,:,0:3]\n",
    "    mask[mask == 255] = 1 \n",
    "    masked_img = img * mask\n",
    "    imgplot = plt.imshow(masked_img)\n",
    "    plt.axis('off')\n",
    "    plt.show()\n",
    "\n",
    "def get_img(img_id):\n",
    "    return mpimg.imread(os.path.join(TRAIN_PATH, img_id + \".jpg\"))\n",
    "       \n",
    "def get_mask(img_id, num_channels=-1):\n",
    "    if num_channels!=-1:\n",
    "        mask = misc.imread(os.path.join(TRAIN_MASKS_PATH, img_id + \"_mask.gif\"), flatten=True)\n",
    "        mask[mask > 128] = 1\n",
    "        if len(mask.shape) == 2:\n",
    "            mask = mask.reshape(mask.shape[0], mask.shape[1], 1)\n",
    "        return mask\n",
    "    else:\n",
    "        mask = mpimg.imread(os.path.join(TRAIN_MASKS_PATH, img_id + \"_mask.gif\"))\n",
    "        mask = mask[:,:,0:3]\n",
    "        return mask"
   ]
  },
  {
   "cell_type": "code",
   "execution_count": 205,
   "metadata": {
    "scrolled": true
   },
   "outputs": [],
   "source": [
    "# faulty_ids = ['8d1a6723c458_01', \n",
    "#               '8d1a6723c458_08'\n",
    "#              ]\n",
    "\n",
    "# for ids in faulty_ids:\n",
    "#     print('Car id {}'.format(ids))\n",
    "#     plot_mask(ids)\n",
    "#     plot_masked_image(ids)"
   ]
  },
  {
   "cell_type": "code",
   "execution_count": 250,
   "metadata": {},
   "outputs": [],
   "source": [
    "def check_mask(mask_id):\n",
    "    print(\"mask id:\", mask_id)\n",
    "    plot_mask(mask_id)\n",
    "    img = get_img(mask_id)\n",
    "    mask = get_mask(mask_id, 1)\n",
    "    masked_img = img * mask\n",
    "#     print('mask:', mask.shape) \n",
    "#     print('img:', img.shape)\n",
    "#     imgplot = plt.imshow(masked_img)\n",
    "#     plt.axis('off')\n",
    "#     plt.show()\n",
    "    mask = get_mask(mask_id, -1)\n",
    "    threshold = 127\n",
    "    imgray = cv2.cvtColor(mask, cv2.COLOR_BGR2GRAY)\n",
    "    ret, thresh = cv2.threshold(imgray, threshold, 255,0)\n",
    "    im2, contours, hierachy = cv2.findContours(thresh,cv2.RETR_TREE,cv2.CHAIN_APPROX_SIMPLE)\n",
    "    im = cv2.drawContours(imgray, contours, -1, (255,255,255), 3)\n",
    "    imgplot = plt.imshow(im)\n",
    "    plt.axis('off')\n",
    "    plt.show()\n",
    "    "
   ]
  },
  {
   "cell_type": "code",
   "execution_count": 252,
   "metadata": {
    "scrolled": true
   },
   "outputs": [
    {
     "name": "stdout",
     "output_type": "stream",
     "text": [
      "mask id: 8d1a6723c458_01\n"
     ]
    },
    {
     "data": {
      "image/png": "[encoded data removed]",
      "text/plain": [
       "<matplotlib.figure.Figure at 0x7f6e66fa2438>"
      ]
     },
     "metadata": {},
     "output_type": "display_data"
    },
    {
     "data": {
      "image/png": "[encoded data removed]",
      "text/plain": [
       "<matplotlib.figure.Figure at 0x7f6e66bf8e10>"
      ]
     },
     "metadata": {},
     "output_type": "display_data"
    }
   ],
   "source": [
    "#check_mask(train_masks_df.iloc[0,0][0:-4])\n",
    "check_mask('8d1a6723c458_01')"
   ]
  },
  {
   "cell_type": "code",
   "execution_count": null,
   "metadata": {
    "collapsed": true
   },
   "outputs": [],
   "source": []
  }
 ],
 "metadata": {
  "kernelspec": {
   "display_name": "Python 3",
   "language": "python",
   "name": "python3"
  },
  "language_info": {
   "codemirror_mode": {
    "name": "ipython",
    "version": 3
   },
   "file_extension": ".py",
   "mimetype": "text/x-python",
   "name": "python",
   "nbconvert_exporter": "python",
   "pygments_lexer": "ipython3",
   "version": "3.5.2"
  }
 },
 "nbformat": 4,
 "nbformat_minor": 2
}
